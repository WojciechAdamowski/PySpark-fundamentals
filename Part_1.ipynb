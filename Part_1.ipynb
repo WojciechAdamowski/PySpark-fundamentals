{
 "cells": [
  {
   "cell_type": "markdown",
   "id": "443bb16a-42b8-470d-9681-b5c664a9694f",
   "metadata": {},
   "source": [
    "# Part 1 \n",
    "\n",
    "This part include:\n",
    "* load data from files\n",
    "* show data informations\n",
    "* selecting data\n",
    "* modify columns"
   ]
  },
  {
   "cell_type": "code",
   "execution_count": 1,
   "id": "e228ccdf-2ff2-4a7f-a8cd-bbffc850276d",
   "metadata": {},
   "outputs": [],
   "source": [
    "from pyspark.sql import SparkSession"
   ]
  },
  {
   "cell_type": "code",
   "execution_count": 2,
   "id": "af631dbc-6e11-4cbf-b0e0-96597ab40fcd",
   "metadata": {},
   "outputs": [],
   "source": [
    "spark = SparkSession.builder.appName('Part 1').getOrCreate()"
   ]
  },
  {
   "cell_type": "markdown",
   "id": "25d17ab8-8ec5-4b10-91ed-44e5218bc38c",
   "metadata": {},
   "source": [
    "## Load data from files\n",
    "\n",
    "### CSV files\n",
    "* with headers\n",
    "* with type sensitivity\n",
    "* specified separator"
   ]
  },
  {
   "cell_type": "code",
   "execution_count": 3,
   "id": "63102309-01b2-4c34-8ac4-f86c1031dc94",
   "metadata": {},
   "outputs": [],
   "source": [
    "basic_dataframe_v1 = spark.read.option('header','true').csv('./data/Part_1/data_1.csv', sep=';', inferSchema=True)\n",
    "basic_dataframe_v2 = spark.read.csv('./data/Part_1/data_1.csv', sep=';', inferSchema=True, header=True)\n",
    "basic_dataframe = spark.read.csv('./data/Part_1/data_1.csv', sep=';', inferSchema=True, header=True)"
   ]
  },
  {
   "cell_type": "markdown",
   "id": "4459a342-65ad-49e5-8e35-bd01613f1476",
   "metadata": {},
   "source": [
    "## Show data informations\n",
    "\n",
    "* show data\n",
    "* show schemas\n",
    "* show data types\n",
    "* show columns describes"
   ]
  },
  {
   "cell_type": "code",
   "execution_count": 4,
   "id": "69dcf689-319c-460c-95ff-fa3b52feb0cf",
   "metadata": {},
   "outputs": [
    {
     "name": "stdout",
     "output_type": "stream",
     "text": [
      "+---+-----+-----+\n",
      "| id| name|price|\n",
      "+---+-----+-----+\n",
      "|  1| Milk|  2.0|\n",
      "|  2|  Bar|  1.5|\n",
      "|  3|Bread|  3.5|\n",
      "+---+-----+-----+\n",
      "\n",
      "+---+-----+-----+\n",
      "| id| name|price|\n",
      "+---+-----+-----+\n",
      "|  1| Milk|  2.0|\n",
      "|  2|  Bar|  1.5|\n",
      "|  3|Bread|  3.5|\n",
      "+---+-----+-----+\n",
      "\n"
     ]
    }
   ],
   "source": [
    "basic_dataframe_v1.show()\n",
    "basic_dataframe_v2.show()"
   ]
  },
  {
   "cell_type": "code",
   "execution_count": 5,
   "id": "6f3275c1-42a0-43f8-86ef-f69ddfc35309",
   "metadata": {},
   "outputs": [
    {
     "name": "stdout",
     "output_type": "stream",
     "text": [
      "root\n",
      " |-- id: integer (nullable = true)\n",
      " |-- name: string (nullable = true)\n",
      " |-- price: double (nullable = true)\n",
      "\n",
      "root\n",
      " |-- id: integer (nullable = true)\n",
      " |-- name: string (nullable = true)\n",
      " |-- price: double (nullable = true)\n",
      "\n"
     ]
    }
   ],
   "source": [
    "basic_dataframe_v1.printSchema()\n",
    "basic_dataframe_v2.printSchema()"
   ]
  },
  {
   "cell_type": "code",
   "execution_count": 6,
   "id": "e51ab096-0a41-4865-bdec-3e7180178871",
   "metadata": {},
   "outputs": [
    {
     "data": {
      "text/plain": [
       "[('id', 'int'), ('name', 'string'), ('price', 'double')]"
      ]
     },
     "execution_count": 6,
     "metadata": {},
     "output_type": "execute_result"
    }
   ],
   "source": [
    "basic_dataframe.dtypes"
   ]
  },
  {
   "cell_type": "code",
   "execution_count": 7,
   "id": "294e9fb7-675a-4a2c-8c25-e591748431b5",
   "metadata": {},
   "outputs": [
    {
     "name": "stdout",
     "output_type": "stream",
     "text": [
      "+-------+---+----+------------------+\n",
      "|summary| id|name|             price|\n",
      "+-------+---+----+------------------+\n",
      "|  count|  3|   3|                 3|\n",
      "|   mean|2.0|NULL|2.3333333333333335|\n",
      "| stddev|1.0|NULL|1.0408329997330663|\n",
      "|    min|  1| Bar|               1.5|\n",
      "|    max|  3|Milk|               3.5|\n",
      "+-------+---+----+------------------+\n",
      "\n",
      "+-------+---+\n",
      "|summary| id|\n",
      "+-------+---+\n",
      "|  count|  3|\n",
      "|   mean|2.0|\n",
      "| stddev|1.0|\n",
      "|    min|  1|\n",
      "|    max|  3|\n",
      "+-------+---+\n",
      "\n"
     ]
    }
   ],
   "source": [
    "basic_dataframe.describe().show()\n",
    "basic_dataframe.describe(['id']).show()"
   ]
  },
  {
   "cell_type": "markdown",
   "id": "a7dd7df1-50fe-437b-bb53-d669c114a3fa",
   "metadata": {},
   "source": [
    "## Selecting data\n",
    "\n",
    "* Show columns\n",
    "* Show specified top rows\n",
    "* Show specified columns "
   ]
  },
  {
   "cell_type": "code",
   "execution_count": 8,
   "id": "5942fcde-9a3b-4b34-a74e-64e0b7ef15b2",
   "metadata": {},
   "outputs": [
    {
     "data": {
      "text/plain": [
       "['id', 'name', 'price']"
      ]
     },
     "execution_count": 8,
     "metadata": {},
     "output_type": "execute_result"
    }
   ],
   "source": [
    "basic_dataframe.columns"
   ]
  },
  {
   "cell_type": "code",
   "execution_count": 9,
   "id": "fe15f7a2-8e9b-4449-93b1-701ea86a2ccf",
   "metadata": {},
   "outputs": [
    {
     "data": {
      "text/plain": [
       "[Row(id=1, name='Milk', price=2.0), Row(id=2, name='Bar', price=1.5)]"
      ]
     },
     "execution_count": 9,
     "metadata": {},
     "output_type": "execute_result"
    }
   ],
   "source": [
    "basic_dataframe.head(2)"
   ]
  },
  {
   "cell_type": "code",
   "execution_count": 10,
   "id": "dc44b5c1-2d31-4274-9b71-2abb8f47675d",
   "metadata": {},
   "outputs": [
    {
     "name": "stdout",
     "output_type": "stream",
     "text": [
      "+-----+\n",
      "| name|\n",
      "+-----+\n",
      "| Milk|\n",
      "|  Bar|\n",
      "|Bread|\n",
      "+-----+\n",
      "\n"
     ]
    }
   ],
   "source": [
    "basic_dataframe.select('name').show()"
   ]
  },
  {
   "cell_type": "code",
   "execution_count": 11,
   "id": "1d6b9a50-b0e1-4cc0-8b13-d314cebbe02c",
   "metadata": {},
   "outputs": [
    {
     "name": "stdout",
     "output_type": "stream",
     "text": [
      "+---+-----+\n",
      "| id| name|\n",
      "+---+-----+\n",
      "|  1| Milk|\n",
      "|  2|  Bar|\n",
      "|  3|Bread|\n",
      "+---+-----+\n",
      "\n"
     ]
    }
   ],
   "source": [
    "basic_dataframe.select(['id','name']).show()"
   ]
  },
  {
   "cell_type": "markdown",
   "id": "235cbaa4-f3da-4f3e-bf76-95a86de55f92",
   "metadata": {},
   "source": [
    "## Modify columns\n",
    "\n",
    "* add column based on other\n",
    "* drop column\n",
    "* rename column"
   ]
  },
  {
   "cell_type": "code",
   "execution_count": 12,
   "id": "3656221a-d17e-4cdc-a2ff-16a324273fb4",
   "metadata": {},
   "outputs": [
    {
     "name": "stdout",
     "output_type": "stream",
     "text": [
      "+---+-----+-----+--------------------+\n",
      "| id| name|price|price after increase|\n",
      "+---+-----+-----+--------------------+\n",
      "|  1| Milk|  2.0|                 2.4|\n",
      "|  2|  Bar|  1.5|  1.7999999999999998|\n",
      "|  3|Bread|  3.5|                 4.2|\n",
      "+---+-----+-----+--------------------+\n",
      "\n"
     ]
    }
   ],
   "source": [
    "basic_dataframe_with_additional_column = basic_dataframe.withColumn('price after increase', basic_dataframe['price']*1.2)\n",
    "basic_dataframe_with_additional_column.show()"
   ]
  },
  {
   "cell_type": "code",
   "execution_count": 13,
   "id": "bb9af7d9-250b-4f45-9429-fefc58649478",
   "metadata": {},
   "outputs": [
    {
     "name": "stdout",
     "output_type": "stream",
     "text": [
      "+---+-----+-----+\n",
      "| id| name|price|\n",
      "+---+-----+-----+\n",
      "|  1| Milk|  2.0|\n",
      "|  2|  Bar|  1.5|\n",
      "|  3|Bread|  3.5|\n",
      "+---+-----+-----+\n",
      "\n"
     ]
    }
   ],
   "source": [
    "basic_dataframe_without_additional_column = basic_dataframe_with_additional_column.drop('price after increase')\n",
    "basic_dataframe_without_additional_column.show()"
   ]
  },
  {
   "cell_type": "code",
   "execution_count": 14,
   "id": "b56d8629-d8ae-4ced-9fa6-73e9c0b827bb",
   "metadata": {},
   "outputs": [
    {
     "name": "stdout",
     "output_type": "stream",
     "text": [
      "+----------+-----+-----+\n",
      "|identifier| name|price|\n",
      "+----------+-----+-----+\n",
      "|         1| Milk|  2.0|\n",
      "|         2|  Bar|  1.5|\n",
      "|         3|Bread|  3.5|\n",
      "+----------+-----+-----+\n",
      "\n"
     ]
    }
   ],
   "source": [
    "basic_dataframe_with_new_named_column = basic_dataframe.withColumnRenamed('id', 'identifier')\n",
    "basic_dataframe_with_new_named_column.show()"
   ]
  }
 ],
 "metadata": {
  "kernelspec": {
   "display_name": "Python 3 (ipykernel)",
   "language": "python",
   "name": "python3"
  },
  "language_info": {
   "codemirror_mode": {
    "name": "ipython",
    "version": 3
   },
   "file_extension": ".py",
   "mimetype": "text/x-python",
   "name": "python",
   "nbconvert_exporter": "python",
   "pygments_lexer": "ipython3",
   "version": "3.11.8"
  }
 },
 "nbformat": 4,
 "nbformat_minor": 5
}
