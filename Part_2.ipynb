{
 "cells": [
  {
   "cell_type": "markdown",
   "id": "c799854b-7bf7-41d2-939e-b7ed36dd35d3",
   "metadata": {},
   "source": [
    "# Part 2 \n",
    "\n",
    "This part include:\n",
    "* droping rows\n",
    "* Replace null values in rows"
   ]
  },
  {
   "cell_type": "code",
   "execution_count": 16,
   "id": "c7f51fc0-397d-4dd8-bf4a-a061b26d7eed",
   "metadata": {},
   "outputs": [],
   "source": [
    "from pyspark.sql import SparkSession\n",
    "from pyspark.ml.feature import Imputer"
   ]
  },
  {
   "cell_type": "code",
   "execution_count": 2,
   "id": "6b8708a7-2a88-4f76-8cb9-9e1e48283543",
   "metadata": {},
   "outputs": [],
   "source": [
    "spark = SparkSession.builder.appName('Part 2').getOrCreate()"
   ]
  },
  {
   "cell_type": "code",
   "execution_count": 6,
   "id": "8224b6e3-ade9-4293-9d1b-69773bb286d0",
   "metadata": {},
   "outputs": [
    {
     "name": "stdout",
     "output_type": "stream",
     "text": [
      "+----+-----+-----+\n",
      "|  id| name|price|\n",
      "+----+-----+-----+\n",
      "|   1| Milk|  2.5|\n",
      "|   2|Bread| NULL|\n",
      "|   3|  Bar|  2.0|\n",
      "|   4| NULL|  1.0|\n",
      "|NULL|Snack|  2.2|\n",
      "|NULL| NULL|  2.0|\n",
      "+----+-----+-----+\n",
      "\n"
     ]
    }
   ],
   "source": [
    "basic_dataframe = spark.read.csv('./data/Part_2/data_1.csv', sep=';', inferSchema=True, header=True)\n",
    "basic_dataframe.show()"
   ]
  },
  {
   "cell_type": "markdown",
   "id": "90ac2bf3-db79-4ef9-9784-870cb9d0a079",
   "metadata": {},
   "source": [
    "## Droping rows\n",
    "\n",
    "* with null values\n",
    "* with only null values\n",
    "* with specfied number of null values\n",
    "* with null values in specified columns"
   ]
  },
  {
   "cell_type": "code",
   "execution_count": 7,
   "id": "346bb973-4449-4ddc-88c4-23b028e2b94a",
   "metadata": {},
   "outputs": [
    {
     "name": "stdout",
     "output_type": "stream",
     "text": [
      "+---+----+-----+\n",
      "| id|name|price|\n",
      "+---+----+-----+\n",
      "|  1|Milk|  2.5|\n",
      "|  3| Bar|  2.0|\n",
      "+---+----+-----+\n",
      "\n"
     ]
    }
   ],
   "source": [
    "dataframe_without_null_values = basic_dataframe.na.drop()\n",
    "dataframe_without_null_values.show()"
   ]
  },
  {
   "cell_type": "code",
   "execution_count": 9,
   "id": "7e51b873-b5b3-4562-9995-bfe3fab6f76f",
   "metadata": {},
   "outputs": [
    {
     "name": "stdout",
     "output_type": "stream",
     "text": [
      "+----+-----+-----+\n",
      "|  id| name|price|\n",
      "+----+-----+-----+\n",
      "|   1| Milk|  2.5|\n",
      "|   2|Bread| NULL|\n",
      "|   3|  Bar|  2.0|\n",
      "|   4| NULL|  1.0|\n",
      "|NULL|Snack|  2.2|\n",
      "|NULL| NULL|  2.0|\n",
      "+----+-----+-----+\n",
      "\n"
     ]
    }
   ],
   "source": [
    "dataframe_without_only_null_values = basic_dataframe.na.drop(how='all')\n",
    "dataframe_without_only_null_values.show()"
   ]
  },
  {
   "cell_type": "code",
   "execution_count": 11,
   "id": "09af5247-dae3-43b8-b92a-f486225f58b5",
   "metadata": {},
   "outputs": [
    {
     "name": "stdout",
     "output_type": "stream",
     "text": [
      "+----+-----+-----+\n",
      "|  id| name|price|\n",
      "+----+-----+-----+\n",
      "|   1| Milk|  2.5|\n",
      "|   2|Bread| NULL|\n",
      "|   3|  Bar|  2.0|\n",
      "|   4| NULL|  1.0|\n",
      "|NULL|Snack|  2.2|\n",
      "+----+-----+-----+\n",
      "\n"
     ]
    }
   ],
   "source": [
    "dataframe_without_two_null_values = basic_dataframe.na.drop(how='any',thresh=2)\n",
    "dataframe_without_two_null_values.show()"
   ]
  },
  {
   "cell_type": "code",
   "execution_count": 12,
   "id": "002b5a58-b1c3-47c4-b045-05f79593bee7",
   "metadata": {},
   "outputs": [
    {
     "name": "stdout",
     "output_type": "stream",
     "text": [
      "+---+-----+-----+\n",
      "| id| name|price|\n",
      "+---+-----+-----+\n",
      "|  1| Milk|  2.5|\n",
      "|  2|Bread| NULL|\n",
      "|  3|  Bar|  2.0|\n",
      "|  4| NULL|  1.0|\n",
      "+---+-----+-----+\n",
      "\n"
     ]
    }
   ],
   "source": [
    "dataframe_without_null_values_in_column = basic_dataframe.na.drop(how='any',subset=['id'])\n",
    "dataframe_without_null_values_in_column.show()"
   ]
  },
  {
   "cell_type": "markdown",
   "id": "76b779e4-6307-4d5a-9379-db337dd155f4",
   "metadata": {},
   "source": [
    "## Replace null values in rows\n",
    "\n",
    "* replace by specified value\n",
    "* replace by generating values"
   ]
  },
  {
   "cell_type": "code",
   "execution_count": 15,
   "id": "10839f7f-8341-4097-8720-83c685593417",
   "metadata": {},
   "outputs": [
    {
     "name": "stdout",
     "output_type": "stream",
     "text": [
      "+----+-------+-----+\n",
      "|  id|   name|price|\n",
      "+----+-------+-----+\n",
      "|   1|   Milk|  2.5|\n",
      "|   2|  Bread| NULL|\n",
      "|   3|    Bar|  2.0|\n",
      "|   4|MISSING|  1.0|\n",
      "|NULL|  Snack|  2.2|\n",
      "|NULL|MISSING|  2.0|\n",
      "+----+-------+-----+\n",
      "\n"
     ]
    }
   ],
   "source": [
    "# replace only string values\n",
    "dataframe_with_replaced_null_values = basic_dataframe.na.fill('MISSING',['name'])\n",
    "dataframe_with_replaced_null_values.show()"
   ]
  },
  {
   "cell_type": "code",
   "execution_count": 22,
   "id": "08140896-ad3b-424a-9348-fbcc9d1e28a4",
   "metadata": {},
   "outputs": [
    {
     "name": "stdout",
     "output_type": "stream",
     "text": [
      "+----+-----+-----+---------+\n",
      "|  id| name|price|price_gen|\n",
      "+----+-----+-----+---------+\n",
      "|   1| Milk|  2.5|      2.5|\n",
      "|   2|Bread| NULL|     1.94|\n",
      "|   3|  Bar|  2.0|      2.0|\n",
      "|   4| NULL|  1.0|      1.0|\n",
      "|NULL|Snack|  2.2|      2.2|\n",
      "|NULL| NULL|  2.0|      2.0|\n",
      "+----+-----+-----+---------+\n",
      "\n",
      "+----+-----+-----+---------+\n",
      "|  id| name|price|price_gen|\n",
      "+----+-----+-----+---------+\n",
      "|   1| Milk|  2.5|      2.5|\n",
      "|   2|Bread| NULL|      2.0|\n",
      "|   3|  Bar|  2.0|      2.0|\n",
      "|   4| NULL|  1.0|      1.0|\n",
      "|NULL|Snack|  2.2|      2.2|\n",
      "|NULL| NULL|  2.0|      2.0|\n",
      "+----+-----+-----+---------+\n",
      "\n"
     ]
    }
   ],
   "source": [
    "imputer_mean = Imputer(\n",
    "    inputCols=['price']\n",
    "    ,outputCols=['price_gen']\n",
    ").setStrategy(\"mean\")\n",
    "\n",
    "imputer_median = Imputer(\n",
    "    inputCols=['price']\n",
    "    ,outputCols=['price_gen']\n",
    ").setStrategy(\"median\")\n",
    "\n",
    "imputer_mean.fit(basic_dataframe).transform(basic_dataframe).show()\n",
    "imputer_median.fit(basic_dataframe).transform(basic_dataframe).show()"
   ]
  }
 ],
 "metadata": {
  "kernelspec": {
   "display_name": "Python 3 (ipykernel)",
   "language": "python",
   "name": "python3"
  },
  "language_info": {
   "codemirror_mode": {
    "name": "ipython",
    "version": 3
   },
   "file_extension": ".py",
   "mimetype": "text/x-python",
   "name": "python",
   "nbconvert_exporter": "python",
   "pygments_lexer": "ipython3",
   "version": "3.11.8"
  }
 },
 "nbformat": 4,
 "nbformat_minor": 5
}
