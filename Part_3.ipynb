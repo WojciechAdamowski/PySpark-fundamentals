{
 "cells": [
  {
   "cell_type": "markdown",
   "id": "54f26277-0bd1-439e-8cbb-dc79a5c1229b",
   "metadata": {},
   "source": [
    "# Part 3 \n",
    "\n",
    "This part include:\n",
    "* filter operations"
   ]
  },
  {
   "cell_type": "code",
   "execution_count": 1,
   "id": "dc906df1-0394-41bc-afbf-d4d89d2bec2e",
   "metadata": {},
   "outputs": [],
   "source": [
    "from pyspark.sql import SparkSession"
   ]
  },
  {
   "cell_type": "code",
   "execution_count": 2,
   "id": "b2c92e0c-7422-45a7-a9d3-c79acb3317df",
   "metadata": {},
   "outputs": [],
   "source": [
    "spark = SparkSession.builder.appName('Part 3').getOrCreate()"
   ]
  },
  {
   "cell_type": "code",
   "execution_count": 3,
   "id": "b7c73691-728c-4f3d-a1d4-206dd2fcb610",
   "metadata": {},
   "outputs": [
    {
     "name": "stdout",
     "output_type": "stream",
     "text": [
      "+---+------+-----+\n",
      "| id|  name|price|\n",
      "+---+------+-----+\n",
      "|  1|  Milk|  2.5|\n",
      "|  2| Bread|  3.0|\n",
      "|  3|   Bar|  2.0|\n",
      "|  4|Banana|  1.5|\n",
      "|  5| Snack|  2.2|\n",
      "|  6| Water|  1.0|\n",
      "+---+------+-----+\n",
      "\n"
     ]
    }
   ],
   "source": [
    "basic_dataframe = spark.read.csv('./data/Part_3/data_1.csv', sep=';', inferSchema=True, header=True)\n",
    "basic_dataframe.show()"
   ]
  },
  {
   "cell_type": "markdown",
   "id": "76b902cd-d6cc-41e3-9549-2d58cf7c4826",
   "metadata": {},
   "source": [
    "## Filter operations\n",
    "\n",
    "* using conditions to select specified rows\n",
    "* using & (and) operator\n",
    "* using | (or) operator\n",
    "* using ~ (not) operator"
   ]
  },
  {
   "cell_type": "code",
   "execution_count": 4,
   "id": "1dd3d84c-81e3-44ed-bffc-4a5261d98b77",
   "metadata": {},
   "outputs": [
    {
     "name": "stdout",
     "output_type": "stream",
     "text": [
      "+---+-----+-----+\n",
      "| id| name|price|\n",
      "+---+-----+-----+\n",
      "|  1| Milk|  2.5|\n",
      "|  2|Bread|  3.0|\n",
      "|  5|Snack|  2.2|\n",
      "+---+-----+-----+\n",
      "\n",
      "+---+-----+-----+\n",
      "| id| name|price|\n",
      "+---+-----+-----+\n",
      "|  1| Milk|  2.5|\n",
      "|  2|Bread|  3.0|\n",
      "|  5|Snack|  2.2|\n",
      "+---+-----+-----+\n",
      "\n"
     ]
    }
   ],
   "source": [
    "basic_dataframe.filter(\"price>2\").show()\n",
    "basic_dataframe.filter(basic_dataframe['price']>2).show()"
   ]
  },
  {
   "cell_type": "code",
   "execution_count": 5,
   "id": "2309ca1f-e6ff-4657-866b-699da9d63a79",
   "metadata": {},
   "outputs": [
    {
     "name": "stdout",
     "output_type": "stream",
     "text": [
      "+---+-----+\n",
      "| id| name|\n",
      "+---+-----+\n",
      "|  1| Milk|\n",
      "|  2|Bread|\n",
      "|  5|Snack|\n",
      "+---+-----+\n",
      "\n"
     ]
    }
   ],
   "source": [
    "basic_dataframe.filter(\"price>2\").select(['id','name']).show()"
   ]
  },
  {
   "cell_type": "code",
   "execution_count": 6,
   "id": "5c56156d-76ee-472f-9068-dae40bb97990",
   "metadata": {},
   "outputs": [
    {
     "name": "stdout",
     "output_type": "stream",
     "text": [
      "+---+-----+-----+\n",
      "| id| name|price|\n",
      "+---+-----+-----+\n",
      "|  1| Milk|  2.5|\n",
      "|  2|Bread|  3.0|\n",
      "+---+-----+-----+\n",
      "\n"
     ]
    }
   ],
   "source": [
    "basic_dataframe.filter((basic_dataframe['price']>2) & (basic_dataframe['id']<=2)).show()"
   ]
  },
  {
   "cell_type": "code",
   "execution_count": 7,
   "id": "52138375-5e85-4b68-ab7c-256b8d9e5665",
   "metadata": {},
   "outputs": [
    {
     "name": "stdout",
     "output_type": "stream",
     "text": [
      "+---+-----+-----+\n",
      "| id| name|price|\n",
      "+---+-----+-----+\n",
      "|  1| Milk|  2.5|\n",
      "|  2|Bread|  3.0|\n",
      "|  5|Snack|  2.2|\n",
      "|  6|Water|  1.0|\n",
      "+---+-----+-----+\n",
      "\n"
     ]
    }
   ],
   "source": [
    "basic_dataframe.filter((basic_dataframe['price']>2) | (basic_dataframe['id']>4)).show()"
   ]
  },
  {
   "cell_type": "code",
   "execution_count": 8,
   "id": "9b9a891d-9681-4e75-a420-bb9c7a5287ab",
   "metadata": {},
   "outputs": [
    {
     "name": "stdout",
     "output_type": "stream",
     "text": [
      "+---+------+-----+\n",
      "| id|  name|price|\n",
      "+---+------+-----+\n",
      "|  3|   Bar|  2.0|\n",
      "|  4|Banana|  1.5|\n",
      "|  6| Water|  1.0|\n",
      "+---+------+-----+\n",
      "\n"
     ]
    }
   ],
   "source": [
    "basic_dataframe.filter(~(basic_dataframe['price']>2)).show()"
   ]
  }
 ],
 "metadata": {
  "kernelspec": {
   "display_name": "Python 3 (ipykernel)",
   "language": "python",
   "name": "python3"
  },
  "language_info": {
   "codemirror_mode": {
    "name": "ipython",
    "version": 3
   },
   "file_extension": ".py",
   "mimetype": "text/x-python",
   "name": "python",
   "nbconvert_exporter": "python",
   "pygments_lexer": "ipython3",
   "version": "3.11.8"
  }
 },
 "nbformat": 4,
 "nbformat_minor": 5
}
