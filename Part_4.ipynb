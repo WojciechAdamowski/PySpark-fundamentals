{
 "cells": [
  {
   "cell_type": "markdown",
   "id": "26b49fe9-17f0-41a1-a9f8-24c0dbab6d10",
   "metadata": {},
   "source": [
    "# Part 4\n",
    "\n",
    "This section include:\n",
    "* group by functions\n",
    "* aggregate functions"
   ]
  },
  {
   "cell_type": "code",
   "execution_count": 1,
   "id": "c58c9185-29bd-4255-8436-ec2eaf231f9e",
   "metadata": {},
   "outputs": [],
   "source": [
    "from pyspark.sql import SparkSession"
   ]
  },
  {
   "cell_type": "code",
   "execution_count": 2,
   "id": "c3a0f671-18ca-48f6-932e-2bb04bdfd671",
   "metadata": {},
   "outputs": [],
   "source": [
    "spark = SparkSession.builder.appName('Part 4').getOrCreate()"
   ]
  },
  {
   "cell_type": "code",
   "execution_count": 3,
   "id": "81232ae7-60cd-4f29-8c43-adefd1f47ff6",
   "metadata": {},
   "outputs": [
    {
     "name": "stdout",
     "output_type": "stream",
     "text": [
      "+---+----------+---------+-----+\n",
      "| id|      name|     type|price|\n",
      "+---+----------+---------+-----+\n",
      "|  1|    banana|    fruit|  1.5|\n",
      "|  2|    tomato|vegetable|  1.0|\n",
      "|  3|    potato|vegetable|  0.2|\n",
      "|  4|     onion|vegetable|  0.3|\n",
      "|  5|    orange|    fruit|  1.2|\n",
      "|  6|strawberry|    fruit|  1.0|\n",
      "+---+----------+---------+-----+\n",
      "\n"
     ]
    }
   ],
   "source": [
    "basic_dataframe = spark.read.csv('./data/Part_4/data_1.csv', sep=';', inferSchema=True, header=True)\n",
    "basic_dataframe.show()"
   ]
  },
  {
   "cell_type": "markdown",
   "id": "1ad3107b-5855-40e8-9c0b-272322d19ba2",
   "metadata": {},
   "source": [
    "## Group by functions"
   ]
  },
  {
   "cell_type": "code",
   "execution_count": 6,
   "id": "f1fc993b-e19e-4f80-9bee-6efc35587e0f",
   "metadata": {},
   "outputs": [
    {
     "name": "stdout",
     "output_type": "stream",
     "text": [
      "+---------+-------+----------+\n",
      "|     type|max(id)|max(price)|\n",
      "+---------+-------+----------+\n",
      "|vegetable|      4|       1.0|\n",
      "|    fruit|      6|       1.5|\n",
      "+---------+-------+----------+\n",
      "\n",
      "+---------+----------+\n",
      "|     type|max(price)|\n",
      "+---------+----------+\n",
      "|vegetable|       1.0|\n",
      "|    fruit|       1.5|\n",
      "+---------+----------+\n",
      "\n"
     ]
    }
   ],
   "source": [
    "basic_dataframe.groupBy('type').max().show()\n",
    "basic_dataframe.groupBy('type').max('price').show()"
   ]
  },
  {
   "cell_type": "markdown",
   "id": "203aa3a5-e531-4256-a4a0-cd24ee5d7f50",
   "metadata": {},
   "source": [
    "# Aggregate functions"
   ]
  },
  {
   "cell_type": "code",
   "execution_count": 9,
   "id": "775585ed-9569-4124-9d8b-f3be9181e0da",
   "metadata": {},
   "outputs": [
    {
     "name": "stdout",
     "output_type": "stream",
     "text": [
      "+----------+\n",
      "|max(price)|\n",
      "+----------+\n",
      "|       1.5|\n",
      "+----------+\n",
      "\n"
     ]
    }
   ],
   "source": [
    "basic_dataframe.agg({'price':'max'}).show()"
   ]
  }
 ],
 "metadata": {
  "kernelspec": {
   "display_name": "Python 3 (ipykernel)",
   "language": "python",
   "name": "python3"
  },
  "language_info": {
   "codemirror_mode": {
    "name": "ipython",
    "version": 3
   },
   "file_extension": ".py",
   "mimetype": "text/x-python",
   "name": "python",
   "nbconvert_exporter": "python",
   "pygments_lexer": "ipython3",
   "version": "3.11.8"
  }
 },
 "nbformat": 4,
 "nbformat_minor": 5
}
