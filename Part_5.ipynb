{
 "cells": [
  {
   "cell_type": "markdown",
   "id": "3b79fa21-6dd5-4f9e-8ba0-f6770930dbde",
   "metadata": {},
   "source": [
    "# Part 5\n",
    "\n",
    "This section include:\n",
    "* assemble data\n",
    "* transform data\n",
    "* train model (LinearRegression)"
   ]
  },
  {
   "cell_type": "code",
   "execution_count": 11,
   "id": "ee7dc10c-8e8a-4523-932d-d17d2483dc93",
   "metadata": {},
   "outputs": [],
   "source": [
    "from pyspark.sql import SparkSession\n",
    "from pyspark.ml.feature import VectorAssembler\n",
    "from pyspark.ml.regression import LinearRegression"
   ]
  },
  {
   "cell_type": "code",
   "execution_count": 2,
   "id": "097874e9-b23d-43c6-a994-8363b6ba3cfe",
   "metadata": {},
   "outputs": [],
   "source": [
    "spark = SparkSession.builder.appName('Part 5').getOrCreate()"
   ]
  },
  {
   "cell_type": "code",
   "execution_count": 3,
   "id": "b76cc36c-0c17-4a99-a258-b9de31b0960b",
   "metadata": {},
   "outputs": [
    {
     "name": "stdout",
     "output_type": "stream",
     "text": [
      "+---+------+----------------+\n",
      "|Age|Income|Customer_Segment|\n",
      "+---+------+----------------+\n",
      "| 25| 50000|              10|\n",
      "| 32| 60000|              20|\n",
      "| 22| 45000|              20|\n",
      "| 45| 80000|              30|\n",
      "| 36| 75000|              30|\n",
      "| 28| 52000|              20|\n",
      "| 40| 70000|              20|\n",
      "| 21| 48000|              10|\n",
      "| 30| 55000|              10|\n",
      "| 38| 73000|              20|\n",
      "+---+------+----------------+\n",
      "\n"
     ]
    }
   ],
   "source": [
    "basic_dataframe = spark.read.csv('./data/Part_5/data_1.csv', sep=';', inferSchema=True, header=True)\n",
    "basic_dataframe.show()"
   ]
  },
  {
   "cell_type": "code",
   "execution_count": 6,
   "id": "1d3cc6f3-5bb4-44f2-a843-238d4e17ef14",
   "metadata": {},
   "outputs": [],
   "source": [
    "featureAssembler = VectorAssembler(inputCols=['Age','Customer_Segment'],outputCol='[Age, Customer_Segment]')"
   ]
  },
  {
   "cell_type": "code",
   "execution_count": 7,
   "id": "bc0364a6-85f7-4098-8443-02579820ef44",
   "metadata": {},
   "outputs": [
    {
     "name": "stdout",
     "output_type": "stream",
     "text": [
      "+---+------+----------------+-----------------------+\n",
      "|Age|Income|Customer_Segment|[Age, Customer_Segment]|\n",
      "+---+------+----------------+-----------------------+\n",
      "| 25| 50000|              10|            [25.0,10.0]|\n",
      "| 32| 60000|              20|            [32.0,20.0]|\n",
      "| 22| 45000|              20|            [22.0,20.0]|\n",
      "| 45| 80000|              30|            [45.0,30.0]|\n",
      "| 36| 75000|              30|            [36.0,30.0]|\n",
      "| 28| 52000|              20|            [28.0,20.0]|\n",
      "| 40| 70000|              20|            [40.0,20.0]|\n",
      "| 21| 48000|              10|            [21.0,10.0]|\n",
      "| 30| 55000|              10|            [30.0,10.0]|\n",
      "| 38| 73000|              20|            [38.0,20.0]|\n",
      "+---+------+----------------+-----------------------+\n",
      "\n"
     ]
    }
   ],
   "source": [
    "transformed_dataframe = featureAssembler.transform(basic_dataframe)\n",
    "transformed_dataframe.show()"
   ]
  },
  {
   "cell_type": "code",
   "execution_count": 9,
   "id": "cbf0962f-9937-40ea-a7ca-8f5ef181d781",
   "metadata": {},
   "outputs": [
    {
     "name": "stdout",
     "output_type": "stream",
     "text": [
      "+------+-----------------------+\n",
      "|Income|[Age, Customer_Segment]|\n",
      "+------+-----------------------+\n",
      "| 50000|            [25.0,10.0]|\n",
      "| 60000|            [32.0,20.0]|\n",
      "| 45000|            [22.0,20.0]|\n",
      "| 80000|            [45.0,30.0]|\n",
      "| 75000|            [36.0,30.0]|\n",
      "| 52000|            [28.0,20.0]|\n",
      "| 70000|            [40.0,20.0]|\n",
      "| 48000|            [21.0,10.0]|\n",
      "| 55000|            [30.0,10.0]|\n",
      "| 73000|            [38.0,20.0]|\n",
      "+------+-----------------------+\n",
      "\n"
     ]
    }
   ],
   "source": [
    "prepared_data = transformed_dataframe.select(['Income','[Age, Customer_Segment]'])\n",
    "prepared_data.show()"
   ]
  },
  {
   "cell_type": "code",
   "execution_count": 13,
   "id": "6d69bfae-edaa-4fa0-b5b0-bdbf2ef82006",
   "metadata": {},
   "outputs": [],
   "source": [
    "train_data, test_data = prepared_data.randomSplit([0.75,0.25])"
   ]
  },
  {
   "cell_type": "code",
   "execution_count": 15,
   "id": "d1b921fa-0c1c-4a49-87bb-c5daf14043bf",
   "metadata": {},
   "outputs": [],
   "source": [
    "regressor = LinearRegression(featuresCol='[Age, Customer_Segment]', labelCol='Income')\n",
    "regressor = regressor.fit(train_data)"
   ]
  },
  {
   "cell_type": "code",
   "execution_count": 17,
   "id": "0e79cd2e-3ad7-4e10-aa6b-968e4baa0236",
   "metadata": {},
   "outputs": [
    {
     "data": {
      "text/plain": [
       "DenseVector([1230.4703, 374.3879])"
      ]
     },
     "execution_count": 17,
     "metadata": {},
     "output_type": "execute_result"
    }
   ],
   "source": [
    "regressor.coefficients"
   ]
  },
  {
   "cell_type": "code",
   "execution_count": 18,
   "id": "eacd0dba-2666-42da-98de-559723b1645a",
   "metadata": {},
   "outputs": [
    {
     "data": {
      "text/plain": [
       "15383.987563155559"
      ]
     },
     "execution_count": 18,
     "metadata": {},
     "output_type": "execute_result"
    }
   ],
   "source": [
    "regressor.intercept"
   ]
  },
  {
   "cell_type": "code",
   "execution_count": 22,
   "id": "27ae3942-6f79-4110-b528-21b965a2a912",
   "metadata": {},
   "outputs": [
    {
     "name": "stdout",
     "output_type": "stream",
     "text": [
      "+------+-----------------------+-----------------+\n",
      "|Income|[Age, Customer_Segment]|       prediction|\n",
      "+------+-----------------------+-----------------+\n",
      "| 45000|            [22.0,20.0]|49942.09094442267|\n",
      "| 70000|            [40.0,20.0]|72090.55577147311|\n",
      "+------+-----------------------+-----------------+\n",
      "\n"
     ]
    }
   ],
   "source": [
    "prediction_data = regressor.evaluate(test_data)\n",
    "prediction_data.predictions.show()"
   ]
  },
  {
   "cell_type": "code",
   "execution_count": 24,
   "id": "352ab8f2-073c-4a6c-8a8b-9910c611ce36",
   "metadata": {},
   "outputs": [
    {
     "data": {
      "text/plain": [
       "(3516.323357947891, 14397343.168292053)"
      ]
     },
     "execution_count": 24,
     "metadata": {},
     "output_type": "execute_result"
    }
   ],
   "source": [
    "(prediction_data.meanAbsoluteError, prediction_data.meanSquaredError)"
   ]
  }
 ],
 "metadata": {
  "kernelspec": {
   "display_name": "Python 3 (ipykernel)",
   "language": "python",
   "name": "python3"
  },
  "language_info": {
   "codemirror_mode": {
    "name": "ipython",
    "version": 3
   },
   "file_extension": ".py",
   "mimetype": "text/x-python",
   "name": "python",
   "nbconvert_exporter": "python",
   "pygments_lexer": "ipython3",
   "version": "3.11.8"
  }
 },
 "nbformat": 4,
 "nbformat_minor": 5
}
